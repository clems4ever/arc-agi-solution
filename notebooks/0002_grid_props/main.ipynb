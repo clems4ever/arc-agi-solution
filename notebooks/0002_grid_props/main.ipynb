{
 "cells": [
  {
   "cell_type": "code",
   "execution_count": 1,
   "metadata": {},
   "outputs": [],
   "source": [
    "%load_ext autoreload\n",
    "%autoreload 2"
   ]
  },
  {
   "cell_type": "code",
   "execution_count": 2,
   "metadata": {},
   "outputs": [],
   "source": [
    "from libs.dataset import Dataset\n",
    "from pynal import parse, infer"
   ]
  },
  {
   "cell_type": "code",
   "execution_count": 3,
   "metadata": {},
   "outputs": [
    {
     "data": {
      "text/plain": [
       "400"
      ]
     },
     "execution_count": 3,
     "metadata": {},
     "output_type": "execute_result"
    }
   ],
   "source": [
    "ds = Dataset(\"../../ARC-AGI/data/training\")\n",
    "len(ds)"
   ]
  },
  {
   "cell_type": "code",
   "execution_count": 4,
   "metadata": {},
   "outputs": [
    {
     "data": {
      "text/plain": [
       "<PySentence at 0x78f3617ee020>"
      ]
     },
     "execution_count": 4,
     "metadata": {},
     "output_type": "execute_result"
    }
   ],
   "source": [
    "sample = ds.get(0)\n",
    "example_grid = sample.train(0)\n",
    "\n",
    "# n0 is a number.\n",
    "s_neutral = parse(\"n0 --> number\")\n",
    "# 0 has no successor, it represent the neutral element of the group.\n",
    "s_neutral_no_pred = parse(\"($x * n0) --> successor <0, 1>\")\n",
    "# if x is a number and y is the successor of x then y is a number.\n",
    "s_succ_is_number = parse(\"($x --> number && ($x * $y) --> successor) ==> $y --> number <1, 1>\")\n",
    "\n",
    "# This represents the number one, it's the successor of the neutral element.\n",
    "s_one = parse(\"(n0 * $y) --> successor <1, 1>\")\n",
    "s_one"
   ]
  },
  {
   "cell_type": "code",
   "execution_count": 9,
   "metadata": {},
   "outputs": [
    {
     "data": {
      "text/plain": [
       "['successor --> ((n0 * $y)) <1, 0.5>',\n",
       " '!(((n0 * $y)) --> successor) <0, 1>',\n",
       " 'n0 --> (/(successor _ $y)) <1, 1>',\n",
       " '$y --> (/(successor n0 _)) <1, 1>']"
      ]
     },
     "execution_count": 9,
     "metadata": {},
     "output_type": "execute_result"
    }
   ],
   "source": [
    "[str(x) for x in infer([s_one], 1)]"
   ]
  },
  {
   "cell_type": "code",
   "execution_count": 11,
   "metadata": {},
   "outputs": [
    {
     "data": {
      "text/plain": [
       "['successor --> ((n0 * $y)) <1, 0.5>',\n",
       " '!(((n0 * $y)) --> successor) <0, 1>',\n",
       " 'n0 --> (/(successor _ $y)) <1, 1>',\n",
       " '$y --> (/(successor n0 _)) <1, 1>',\n",
       " 'successor --> (($x * n0)) <1, 0>',\n",
       " '!((($x * n0)) --> successor) <1, 1>',\n",
       " '$x --> (/(successor _ n0)) <0, 1>',\n",
       " 'n0 --> (/(successor $x _)) <0, 1>',\n",
       " '(($x * n0)) --> ((n0 * $y)) <0, 0.5>',\n",
       " '((n0 * $y)) --> (($x * n0)) <1, 0>',\n",
       " '(((n0 * $y) - ($x * n0))) --> successor <1, 1>',\n",
       " '((($x * n0) - (n0 * $y))) --> successor <0, 1>',\n",
       " '(((n0 * $y) | ($x * n0))) --> successor <1, 1>',\n",
       " '(((n0 * $y) & ($x * n0))) --> successor <0, 1>',\n",
       " '((($x * n0)) --> successor) ==> (((n0 * $y)) --> successor) <1, 0>',\n",
       " '(((n0 * $y)) --> successor) ==> ((($x * n0)) --> successor) <0, 0.5>',\n",
       " '((($x * n0)) --> successor) <==> (((n0 * $y)) --> successor) <0, 0.5>',\n",
       " '((((n0 * $y)) --> successor) && ((($x * n0)) --> successor)) <0, 1>',\n",
       " '((((n0 * $y)) --> successor) || ((($x * n0)) --> successor)) <1, 1>',\n",
       " '((n0 * $y)) --> (($x * n0)) <1, 0>',\n",
       " '(($x * n0)) --> ((n0 * $y)) <0, 0.5>',\n",
       " '((($x * n0) - (n0 * $y))) --> successor <0, 1>',\n",
       " '(((n0 * $y) - ($x * n0))) --> successor <1, 1>',\n",
       " '((($x * n0) | (n0 * $y))) --> successor <1, 1>',\n",
       " '((($x * n0) & (n0 * $y))) --> successor <0, 1>',\n",
       " '(((n0 * $y)) --> successor) ==> ((($x * n0)) --> successor) <0, 0.5>',\n",
       " '((($x * n0)) --> successor) ==> (((n0 * $y)) --> successor) <1, 0>',\n",
       " '(((n0 * $y)) --> successor) <==> ((($x * n0)) --> successor) <0, 0.5>',\n",
       " '(((($x * n0)) --> successor) && (((n0 * $y)) --> successor)) <0, 1>',\n",
       " '(((($x * n0)) --> successor) || (((n0 * $y)) --> successor)) <1, 1>']"
      ]
     },
     "execution_count": 11,
     "metadata": {},
     "output_type": "execute_result"
    }
   ],
   "source": [
    "[str(x) for x in infer([s_one, s_neutral_no_pred], 1)]"
   ]
  },
  {
   "cell_type": "code",
   "execution_count": null,
   "metadata": {},
   "outputs": [],
   "source": []
  }
 ],
 "metadata": {
  "kernelspec": {
   "display_name": "ai",
   "language": "python",
   "name": "python3"
  },
  "language_info": {
   "codemirror_mode": {
    "name": "ipython",
    "version": 3
   },
   "file_extension": ".py",
   "mimetype": "text/x-python",
   "name": "python",
   "nbconvert_exporter": "python",
   "pygments_lexer": "ipython3",
   "version": "3.12.0"
  }
 },
 "nbformat": 4,
 "nbformat_minor": 2
}
