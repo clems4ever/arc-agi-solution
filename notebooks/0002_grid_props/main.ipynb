{
 "cells": [
  {
   "cell_type": "code",
   "execution_count": 1,
   "metadata": {},
   "outputs": [],
   "source": [
    "%load_ext autoreload\n",
    "%autoreload 2"
   ]
  },
  {
   "cell_type": "code",
   "execution_count": 2,
   "metadata": {},
   "outputs": [
    {
     "data": {
      "text/plain": [
       "400"
      ]
     },
     "execution_count": 2,
     "metadata": {},
     "output_type": "execute_result"
    }
   ],
   "source": [
    "from libs.dataset import Dataset\n",
    "\n",
    "ds = Dataset(\"../../ARC-AGI/data/training\")\n",
    "len(ds)"
   ]
  },
  {
   "cell_type": "code",
   "execution_count": 78,
   "metadata": {},
   "outputs": [
    {
     "name": "stdout",
     "output_type": "stream",
     "text": [
      "../../ARC-AGI/data/training/007bbfb7.json\n",
      "[3, 3]\n",
      "[9, 9]\n",
      "[3, 3]\n",
      "[9, 9]\n",
      "[3, 3]\n",
      "[9, 9]\n",
      "[3, 3]\n",
      "[9, 9]\n"
     ]
    }
   ],
   "source": [
    "point = ds.get(0)\n",
    "print(point.path)\n",
    "\n",
    "for i in range(4):\n",
    "    obj = point.train(i)\n",
    "    print(obj['input'].size())\n",
    "    print(obj['output'].size())"
   ]
  },
  {
   "cell_type": "code",
   "execution_count": null,
   "metadata": {},
   "outputs": [],
   "source": []
  }
 ],
 "metadata": {
  "kernelspec": {
   "display_name": "ai",
   "language": "python",
   "name": "python3"
  },
  "language_info": {
   "codemirror_mode": {
    "name": "ipython",
    "version": 3
   },
   "file_extension": ".py",
   "mimetype": "text/x-python",
   "name": "python",
   "nbconvert_exporter": "python",
   "pygments_lexer": "ipython3",
   "version": "3.11.3"
  }
 },
 "nbformat": 4,
 "nbformat_minor": 2
}
