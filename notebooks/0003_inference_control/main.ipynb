{
 "cells": [
  {
   "cell_type": "code",
   "execution_count": 4,
   "metadata": {},
   "outputs": [
    {
     "name": "stdout",
     "output_type": "stream",
     "text": [
      "The autoreload extension is already loaded. To reload it, use:\n",
      "  %reload_ext autoreload\n"
     ]
    }
   ],
   "source": [
    "%load_ext autoreload\n",
    "%autoreload 2"
   ]
  },
  {
   "cell_type": "code",
   "execution_count": 5,
   "metadata": {},
   "outputs": [
    {
     "data": {
      "text/plain": [
       "'(n0 * $y) --> successor <1, 1>'"
      ]
     },
     "execution_count": 5,
     "metadata": {},
     "output_type": "execute_result"
    }
   ],
   "source": [
    "from pynal import parse\n",
    "\n",
    "# Is the successor of a successor of neutral a number?\n",
    "s_question_is_2_a_number = parse(\"(n0 * $x) --> successor && ($x * $y) --> successor ==> $y --> number\")\n",
    "\n",
    "# n0 is a number.\n",
    "s_neutral = parse(\"n0 --> number <1, 1>\")\n",
    "# 0 has no successor, it represent the neutral element of the group.\n",
    "s_neutral_no_pred = parse(\"($x * n0) --> successor <0, 1>\")\n",
    "# if x is a number and y is the successor of x then y is a number.\n",
    "s_succ_is_number = parse(\"($x --> number && ($x * $y) --> successor) ==> $y --> number <1, 1>\")\n",
    "\n",
    "# This represents the number one, it's the successor of the neutral element.\n",
    "s_one = parse(\"(n0 * $y) --> successor <1, 1>\")\n",
    "str(s_one)"
   ]
  },
  {
   "cell_type": "code",
   "execution_count": 6,
   "metadata": {},
   "outputs": [],
   "source": [
    "from pynal import PyAgent\n",
    "\n",
    "g = PyAgent(s_question_is_2_a_number)"
   ]
  },
  {
   "cell_type": "code",
   "execution_count": 7,
   "metadata": {},
   "outputs": [],
   "source": [
    "g.insert_judgement(s_neutral)\n",
    "g.insert_judgement(s_neutral_no_pred)\n",
    "g.insert_judgement(s_succ_is_number)\n",
    "g.insert_judgement(s_one)"
   ]
  },
  {
   "cell_type": "code",
   "execution_count": 8,
   "metadata": {},
   "outputs": [
    {
     "data": {
      "text/plain": [
       "'{\"graph\":{\"graph\":{\"concept_nodes\":{\"4866322321660403419\":{\"producers\":[],\"data\":{\"truth_value\":[1.0,1.0]}},\"1200364454434773591\":{\"producers\":[],\"data\":{\"truth_value\":[1.0,1.0]}},\"17242052240682676770\":{\"producers\":[],\"data\":{\"truth_value\":[0.0,1.0]}},\"8234755996609770899\":{\"producers\":[],\"data\":{\"truth_value\":[1.0,1.0]}}},\"inference_edges\":{}},\"concept_registry\":{\"items\":{\"4666551625464260706\":{\"Word\":\"number\"},\"440039415443063114\":{\"Statement\":\"$y --> number\"},\"8234755996609770899\":{\"Statement\":\"(n0 * $y) --> successor\"},\"11154223618907788555\":{\"Statement\":\"$x --> (number && (($x * $y) --> successor))\"},\"17242052240682676770\":{\"Statement\":\"($x * n0) --> successor\"},\"3537541453156837213\":{\"Word\":\"n0\"},\"1704503693233507074\":{\"Product\":[{\"Word\":\"n0\"},{\"Variable\":{\"IndependentVariable\":\"y\"}}]},\"16494604367619690481\":{\"Product\":[{\"Variable\":{\"IndependentVariable\":\"x\"}},{\"Word\":\"n0\"}]},\"1200364454434773591\":{\"Statement\":\"($x --> (number && (($x * $y) --> successor))) ==> ($y --> number)\"},\"4866322321660403419\":{\"Statement\":\"n0 --> number\"},\"8182009066610247383\":{\"Word\":\"successor\"}}}},\"goal\":\"(n0 * $x) --> (successor && (($x * $y) --> (successor ==> ($y --> number))))\"}'"
      ]
     },
     "execution_count": 8,
     "metadata": {},
     "output_type": "execute_result"
    }
   ],
   "source": [
    "g.to_json()"
   ]
  },
  {
   "cell_type": "code",
   "execution_count": 9,
   "metadata": {},
   "outputs": [
    {
     "data": {
      "text/plain": [
       "1.0"
      ]
     },
     "execution_count": 9,
     "metadata": {},
     "output_type": "execute_result"
    }
   ],
   "source": [
    "g.confidence()"
   ]
  },
  {
   "cell_type": "code",
   "execution_count": 14,
   "metadata": {},
   "outputs": [
    {
     "data": {
      "text/plain": [
       "(1.0, 1.0)"
      ]
     },
     "execution_count": 14,
     "metadata": {},
     "output_type": "execute_result"
    }
   ],
   "source": [
    "g.question(parse(\"n0 --> number\"))"
   ]
  },
  {
   "cell_type": "code",
   "execution_count": 15,
   "metadata": {},
   "outputs": [
    {
     "ename": "ValueError",
     "evalue": "no term found",
     "output_type": "error",
     "traceback": [
      "\u001b[0;31m---------------------------------------------------------------------------\u001b[0m",
      "\u001b[0;31mValueError\u001b[0m                                Traceback (most recent call last)",
      "Cell \u001b[0;32mIn[15], line 1\u001b[0m\n\u001b[0;32m----> 1\u001b[0m \u001b[43mg\u001b[49m\u001b[38;5;241;43m.\u001b[39;49m\u001b[43mquestion\u001b[49m\u001b[43m(\u001b[49m\u001b[43mparse\u001b[49m\u001b[43m(\u001b[49m\u001b[38;5;124;43m\"\u001b[39;49m\u001b[38;5;124;43munknown\u001b[39;49m\u001b[38;5;124;43m\"\u001b[39;49m\u001b[43m)\u001b[49m\u001b[43m)\u001b[49m\n",
      "\u001b[0;31mValueError\u001b[0m: no term found"
     ]
    }
   ],
   "source": [
    "g.question(parse(\"unknown\"))"
   ]
  },
  {
   "cell_type": "code",
   "execution_count": null,
   "metadata": {},
   "outputs": [],
   "source": []
  }
 ],
 "metadata": {
  "kernelspec": {
   "display_name": "ai",
   "language": "python",
   "name": "python3"
  },
  "language_info": {
   "codemirror_mode": {
    "name": "ipython",
    "version": 3
   },
   "file_extension": ".py",
   "mimetype": "text/x-python",
   "name": "python",
   "nbconvert_exporter": "python",
   "pygments_lexer": "ipython3",
   "version": "3.12.0"
  }
 },
 "nbformat": 4,
 "nbformat_minor": 2
}
