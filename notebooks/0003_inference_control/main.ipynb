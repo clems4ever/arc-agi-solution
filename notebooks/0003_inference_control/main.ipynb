{
 "cells": [
  {
   "cell_type": "code",
   "execution_count": 1,
   "metadata": {},
   "outputs": [],
   "source": [
    "%load_ext autoreload\n",
    "%autoreload 2"
   ]
  },
  {
   "cell_type": "code",
   "execution_count": 2,
   "metadata": {},
   "outputs": [
    {
     "data": {
      "text/plain": [
       "'(n0 * $y) --> successor <1, 1>'"
      ]
     },
     "execution_count": 2,
     "metadata": {},
     "output_type": "execute_result"
    }
   ],
   "source": [
    "from pynal import parse\n",
    "\n",
    "# Is the successor of a successor of neutral a number?\n",
    "s_question_is_2_a_number = parse(\"(n0 * $x) --> successor && ($x * $y) --> successor ==> $y --> number\")\n",
    "\n",
    "# n0 is a number.\n",
    "s_neutral = parse(\"n0 --> number <1, 1>\")\n",
    "# 0 has no successor, it represent the neutral element of the group.\n",
    "s_neutral_no_pred = parse(\"($x * n0) --> successor <0, 1>\")\n",
    "# if x is a number and y is the successor of x then y is a number.\n",
    "s_succ_is_number = parse(\"($x --> number && ($x * $y) --> successor) ==> $y --> number <1, 1>\")\n",
    "\n",
    "# This represents the number one, it's the successor of the neutral element.\n",
    "s_one = parse(\"(n0 * $y) --> successor <1, 1>\")\n",
    "str(s_one)"
   ]
  },
  {
   "cell_type": "code",
   "execution_count": 3,
   "metadata": {},
   "outputs": [],
   "source": [
    "from pynal import PyAgent\n",
    "\n",
    "g = PyAgent(s_question_is_2_a_number)"
   ]
  },
  {
   "cell_type": "code",
   "execution_count": 4,
   "metadata": {},
   "outputs": [],
   "source": [
    "g.insert_judgement(s_neutral)\n",
    "g.insert_judgement(s_neutral_no_pred)\n",
    "g.insert_judgement(s_succ_is_number)\n",
    "g.insert_judgement(s_one)"
   ]
  },
  {
   "cell_type": "code",
   "execution_count": 11,
   "metadata": {},
   "outputs": [
    {
     "data": {
      "text/plain": [
       "'{\"graph\":{\"concept_nodes\":{\"16290896512845981227\":{\"producers\":[],\"data\":{\"judgement\":\"($x --> (number && (($x * $y) --> successor))) ==> ($y --> number) <1, 1>\"}},\"16368237883921791803\":{\"producers\":[],\"data\":{\"judgement\":\"(n0 * $y) --> successor <1, 1>\"}},\"17980707671495915701\":{\"producers\":[],\"data\":{\"judgement\":\"($x * n0) --> successor <0, 1>\"}},\"2238808468338735084\":{\"producers\":[],\"data\":{\"judgement\":\"n0 --> number <1, 1>\"}}},\"inference_edges\":{}}}'"
      ]
     },
     "execution_count": 11,
     "metadata": {},
     "output_type": "execute_result"
    }
   ],
   "source": [
    "g.to_json()"
   ]
  },
  {
   "cell_type": "code",
   "execution_count": 12,
   "metadata": {},
   "outputs": [
    {
     "data": {
      "text/plain": [
       "1.0"
      ]
     },
     "execution_count": 12,
     "metadata": {},
     "output_type": "execute_result"
    }
   ],
   "source": [
    "g.confidence()"
   ]
  },
  {
   "cell_type": "code",
   "execution_count": null,
   "metadata": {},
   "outputs": [],
   "source": []
  }
 ],
 "metadata": {
  "kernelspec": {
   "display_name": "ai",
   "language": "python",
   "name": "python3"
  },
  "language_info": {
   "codemirror_mode": {
    "name": "ipython",
    "version": 3
   },
   "file_extension": ".py",
   "mimetype": "text/x-python",
   "name": "python",
   "nbconvert_exporter": "python",
   "pygments_lexer": "ipython3",
   "version": "3.12.0"
  }
 },
 "nbformat": 4,
 "nbformat_minor": 2
}
