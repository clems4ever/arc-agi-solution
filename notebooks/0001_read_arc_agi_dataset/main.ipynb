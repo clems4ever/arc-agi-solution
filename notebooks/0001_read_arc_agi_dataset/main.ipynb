{
 "cells": [
  {
   "cell_type": "code",
   "execution_count": 1,
   "metadata": {},
   "outputs": [],
   "source": [
    "%load_ext autoreload\n",
    "%autoreload 2"
   ]
  },
  {
   "cell_type": "code",
   "execution_count": 25,
   "metadata": {},
   "outputs": [],
   "source": [
    "import yaml\n",
    "\n",
    "with open(\"../../ARC-AGI/data/training/0a938d79.json\", \"r\") as f:\n",
    "    obj = yaml.safe_load(f)"
   ]
  },
  {
   "cell_type": "code",
   "execution_count": 28,
   "metadata": {},
   "outputs": [
    {
     "name": "stdout",
     "output_type": "stream",
     "text": [
      "[25, 10]\n",
      "[25, 10]\n",
      "[23, 7]\n",
      "[23, 7]\n",
      "[9, 22]\n",
      "[9, 22]\n",
      "[8, 24]\n",
      "[8, 24]\n",
      "\n",
      "[27, 11]\n",
      "[27, 11]\n"
     ]
    }
   ],
   "source": [
    "def grid_size(g):\n",
    "    return [len(g[0]), len(g)]\n",
    "\n",
    "for i in range(4):\n",
    "    print(grid_size(obj[\"train\"][i]['input']))\n",
    "    print(grid_size(obj[\"train\"][i]['output']))\n",
    "\n",
    "print()\n",
    "\n",
    "print(grid_size(obj[\"test\"][0]['input']))\n",
    "print(grid_size(obj[\"test\"][0]['output']))"
   ]
  },
  {
   "cell_type": "code",
   "execution_count": null,
   "metadata": {},
   "outputs": [],
   "source": [
    "from libs.dataset import grid_size\n",
    "\n",
    "print(grid_size(obj[\"test\"][0]['input']))\n",
    "print(grid_size(obj[\"test\"][0]['output']))\n"
   ]
  }
 ],
 "metadata": {
  "kernelspec": {
   "display_name": "ai",
   "language": "python",
   "name": "python3"
  },
  "language_info": {
   "codemirror_mode": {
    "name": "ipython",
    "version": 3
   },
   "file_extension": ".py",
   "mimetype": "text/x-python",
   "name": "python",
   "nbconvert_exporter": "python",
   "pygments_lexer": "ipython3",
   "version": "3.11.3"
  }
 },
 "nbformat": 4,
 "nbformat_minor": 2
}
