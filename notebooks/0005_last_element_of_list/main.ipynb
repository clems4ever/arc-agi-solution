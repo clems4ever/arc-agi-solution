{
 "cells": [
  {
   "cell_type": "code",
   "execution_count": 1,
   "metadata": {},
   "outputs": [],
   "source": [
    "%load_ext autoreload\n",
    "%autoreload 2"
   ]
  },
  {
   "cell_type": "code",
   "execution_count": 2,
   "metadata": {},
   "outputs": [],
   "source": [
    "from pynal import parse"
   ]
  },
  {
   "cell_type": "code",
   "execution_count": null,
   "metadata": {},
   "outputs": [],
   "source": [
    "i1_input = parse(\"i1 --> input <1, 0.999>\")\n",
    "i2_input = parse(\"i2 --> input <1, 0.999>\")\n",
    "i3_input = parse(\"i3 --> input <1, 0.999>\")\n",
    "o1_output = parse(\"o1 --> output <1, 0.999>\")\n",
    "\n",
    "i1_t1 = parse(\"(i1 * t1) --> set_to <1, 0.98>\")\n",
    "i2_t2 = parse(\"(i2 * t2) --> set_to <1, 0.98>\")\n",
    "i3_t3 = parse(\"(i3 * t3) --> set_to <1, 0.98>\")\n",
    "o1_t3 = parse(\"(o1 * t3) --> set_to <1, 0.98>\")\n",
    "o1_na = parse(\"(o1 * na) --> set_to <1, 0.98>\")"
   ]
  },
  {
   "cell_type": "code",
   "execution_count": 5,
   "metadata": {},
   "outputs": [
    {
     "name": "stdout",
     "output_type": "stream",
     "text": [
      "[input --> i1 <1, 0.49974987>, !(i1 --> input) <0, 0.999>]\n"
     ]
    }
   ],
   "source": [
    "from pynal import run_forward_inference_one_premise\n",
    "\n",
    "print(run_forward_inference_one_premise(i1_input))"
   ]
  },
  {
   "cell_type": "code",
   "execution_count": 7,
   "metadata": {},
   "outputs": [
    {
     "name": "stdout",
     "output_type": "stream",
     "text": [
      "(i1 * t1) --> i1 <1, 0.47343478>\n",
      "i1 --> (i1 * t1) <1, 0.47343478>\n",
      "((i1 * t1) --> set_to) ==> (i1 --> input) <1, 0.47343478>\n",
      "(i1 --> input) ==> ((i1 * t1) --> set_to) <1, 0.47343478>\n",
      "((i1 * t1) --> set_to) <==> (i1 --> input) <1, 0.47343478>\n",
      "((i1 --> input) && ((i1 * t1) --> set_to)) <1, 0.8991>\n",
      "((i1 --> input) || ((i1 * t1) --> set_to)) <1, 0.8991>\n"
     ]
    }
   ],
   "source": [
    "from pynal import run_forward_inference_two_premise\n",
    "\n",
    "for x in run_forward_inference_two_premise(i1_input, i1_t1):\n",
    "    print(x)"
   ]
  },
  {
   "cell_type": "code",
   "execution_count": null,
   "metadata": {},
   "outputs": [],
   "source": []
  }
 ],
 "metadata": {
  "kernelspec": {
   "display_name": "ai",
   "language": "python",
   "name": "python3"
  },
  "language_info": {
   "codemirror_mode": {
    "name": "ipython",
    "version": 3
   },
   "file_extension": ".py",
   "mimetype": "text/x-python",
   "name": "python",
   "nbconvert_exporter": "python",
   "pygments_lexer": "ipython3",
   "version": "3.12.0"
  }
 },
 "nbformat": 4,
 "nbformat_minor": 2
}
